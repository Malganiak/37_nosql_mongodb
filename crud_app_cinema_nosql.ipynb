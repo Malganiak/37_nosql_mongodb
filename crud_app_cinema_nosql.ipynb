{
 "cells": [
  {
   "cell_type": "markdown",
   "metadata": {},
   "source": [
    "### Commencer par l'installation de MongoDB sur mon pc local Windows 10\n",
    "https://www.mongodb.com/try/download/community\n",
    "\n",
    "Une fois installer créer la base de données 'club_cinema' et la collection \"films'"
   ]
  },
  {
   "cell_type": "markdown",
   "metadata": {},
   "source": [
    "### Import des librairies nécessaires"
   ]
  },
  {
   "cell_type": "code",
   "execution_count": 1,
   "metadata": {},
   "outputs": [],
   "source": [
    "import pymongo\n",
    "from bson.objectid import ObjectId"
   ]
  },
  {
   "cell_type": "markdown",
   "metadata": {},
   "source": [
    "### Connexion vers la base de données NoSQL MongoDB"
   ]
  },
  {
   "cell_type": "code",
   "execution_count": 2,
   "metadata": {},
   "outputs": [],
   "source": [
    "# Connexion à MongoDB\n",
    "client = pymongo.MongoClient(\"mongodb://localhost:27017/\")\n",
    "\n",
    "# Sélection de la base de données\n",
    "db = client[\"club_cinema\"]\n",
    "\n",
    "# Sélection de la collection (équivalent à une table dans les bases de données relationnelles)\n",
    "films_collection = db[\"films\"]"
   ]
  },
  {
   "cell_type": "markdown",
   "metadata": {},
   "source": [
    "### Définition des actions CRUD"
   ]
  },
  {
   "cell_type": "code",
   "execution_count": 3,
   "metadata": {},
   "outputs": [],
   "source": [
    "# Opération CRUD : CREATE\n",
    "def create_film(film_data):\n",
    "    result = films_collection.insert_one(film_data)\n",
    "    print(\"Film ajouté avec l'ID:\", result.inserted_id)\n",
    "    return result.inserted_id  # Retourne l'ID du film ajouté\n",
    "\n",
    "# Opération CRUD : READ\n",
    "def get_film_by_name(film_name):\n",
    "    return films_collection.find_one({\"title\": film_name})\n",
    "\n",
    "def get_film_by_id(film_id):\n",
    "    return films_collection.find_one({\"_id\": ObjectId(film_id)})\n",
    "\n",
    "# Opération CRUD : UPDATE\n",
    "def update_film(film_identifier, new_data):\n",
    "    if isinstance(film_identifier, str):\n",
    "        films_collection.update_one({\"title\": film_identifier}, {\"$set\": new_data})\n",
    "    else:\n",
    "        films_collection.update_one({\"_id\": ObjectId(film_identifier)}, {\"$set\": new_data})\n",
    "    print(\"Film mis à jour avec succès.\")\n",
    "\n",
    "# Opération CRUD : DELETE\n",
    "def delete_film(film_identifier):\n",
    "    if isinstance(film_identifier, str):\n",
    "        films_collection.delete_one({\"title\": film_identifier})\n",
    "    else:\n",
    "        films_collection.delete_one({\"_id\": ObjectId(film_identifier)})\n",
    "    print(\"Film supprimé avec succès.\")"
   ]
  },
  {
   "cell_type": "markdown",
   "metadata": {},
   "source": [
    "### Utilisation des actions pour construire la bdd"
   ]
  },
  {
   "cell_type": "code",
   "execution_count": 4,
   "metadata": {},
   "outputs": [
    {
     "name": "stdout",
     "output_type": "stream",
     "text": [
      "Film ajouté avec l'ID: 6641e809f5dbc49155c58a48\n"
     ]
    }
   ],
   "source": [
    "# Exemple d'utilisation\n",
    "if __name__ == \"__main__\":\n",
    "    # Création d'un film\n",
    "    film_data = {\n",
    "        \"title\": \"Inception\",\n",
    "        \"director\": \"Christopher Nolan\",\n",
    "        \"year\": 2010,\n",
    "        \"genre\": \"Science Fiction\"\n",
    "    }\n",
    "    film_id = create_film(film_data)"
   ]
  },
  {
   "cell_type": "code",
   "execution_count": 6,
   "metadata": {},
   "outputs": [
    {
     "name": "stdout",
     "output_type": "stream",
     "text": [
      "Film par nom:\n",
      "{'_id': ObjectId('6641e809f5dbc49155c58a48'), 'title': 'Inception', 'director': 'Christopher Nolan', 'year': 2010, 'genre': 'Science Fiction'}\n"
     ]
    }
   ],
   "source": [
    "# Lecture d'un film par son nom\n",
    "print(\"Film par nom:\")\n",
    "print(get_film_by_name(\"Inception\"))"
   ]
  },
  {
   "cell_type": "code",
   "execution_count": 7,
   "metadata": {},
   "outputs": [
    {
     "name": "stdout",
     "output_type": "stream",
     "text": [
      "Film par ID:\n",
      "{'_id': ObjectId('6641e809f5dbc49155c58a48'), 'title': 'Inception', 'director': 'Christopher Nolan', 'year': 2010, 'genre': 'Science Fiction'}\n"
     ]
    }
   ],
   "source": [
    "# Lecture d'un film par son ID\n",
    "print(\"Film par ID:\")\n",
    "print(get_film_by_id(film_id))"
   ]
  },
  {
   "cell_type": "code",
   "execution_count": 9,
   "metadata": {},
   "outputs": [
    {
     "name": "stdout",
     "output_type": "stream",
     "text": [
      "Film mis à jour avec succès.\n"
     ]
    }
   ],
   "source": [
    "# Mise à jour d'un film par son nom\n",
    "new_data = {\"genre\": \"Thriller\"}\n",
    "update_film(\"Inception\", new_data)"
   ]
  },
  {
   "cell_type": "code",
   "execution_count": 10,
   "metadata": {},
   "outputs": [
    {
     "name": "stdout",
     "output_type": "stream",
     "text": [
      "Film supprimé avec succès.\n"
     ]
    }
   ],
   "source": [
    "# Suppression d'un film par son nom\n",
    "delete_film(\"Inception\")"
   ]
  },
  {
   "cell_type": "code",
   "execution_count": null,
   "metadata": {},
   "outputs": [],
   "source": []
  }
 ],
 "metadata": {
  "kernelspec": {
   "display_name": "Python 3",
   "language": "python",
   "name": "python3"
  },
  "language_info": {
   "codemirror_mode": {
    "name": "ipython",
    "version": 3
   },
   "file_extension": ".py",
   "mimetype": "text/x-python",
   "name": "python",
   "nbconvert_exporter": "python",
   "pygments_lexer": "ipython3",
   "version": "3.10.14"
  }
 },
 "nbformat": 4,
 "nbformat_minor": 2
}
